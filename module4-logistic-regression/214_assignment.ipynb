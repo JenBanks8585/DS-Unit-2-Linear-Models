{
  "nbformat": 4,
  "nbformat_minor": 0,
  "metadata": {
    "kernelspec": {
      "display_name": "Python 3",
      "language": "python",
      "name": "python3"
    },
    "language_info": {
      "codemirror_mode": {
        "name": "ipython",
        "version": 3
      },
      "file_extension": ".py",
      "mimetype": "text/x-python",
      "name": "python",
      "nbconvert_exporter": "python",
      "pygments_lexer": "ipython3",
      "version": "3.7.3"
    },
    "colab": {
      "name": "214_assignment.ipynb",
      "provenance": [],
      "include_colab_link": true
    }
  },
  "cells": [
    {
      "cell_type": "markdown",
      "metadata": {
        "id": "view-in-github",
        "colab_type": "text"
      },
      "source": [
        "<a href=\"https://colab.research.google.com/github/JenBanks8585/DS-Unit-2-Linear-Models/blob/master/module4-logistic-regression/214_assignment.ipynb\" target=\"_parent\"><img src=\"https://colab.research.google.com/assets/colab-badge.svg\" alt=\"Open In Colab\"/></a>"
      ]
    },
    {
      "cell_type": "markdown",
      "metadata": {
        "id": "tT8u5fKBKid8"
      },
      "source": [
        "Lambda School Data Science\n",
        "\n",
        "*Unit 2, Sprint 1, Module 4*\n",
        "\n",
        "---"
      ]
    },
    {
      "cell_type": "markdown",
      "metadata": {
        "id": "7IXUfiQ2UKj6"
      },
      "source": [
        "# Logistic Regression\n",
        "\n",
        "\n",
        "## Assignment 🌯\n",
        "\n",
        "You'll use a [**dataset of 400+ burrito reviews**](https://srcole.github.io/100burritos/). How accurately can you predict whether a burrito is rated 'Great'?\n",
        "\n",
        "> We have developed a 10-dimensional system for rating the burritos in San Diego. ... Generate models for what makes a burrito great and investigate correlations in its dimensions.\n",
        "\n",
        "- [ ] Do train/validate/test split. Train on reviews from 2016 & earlier. Validate on 2017. Test on 2018 & later.\n",
        "- [ ] Begin with baselines for classification.\n",
        "- [ ] Use scikit-learn for logistic regression.\n",
        "- [ ] Get your model's validation accuracy. (Multiple times if you try multiple iterations.)\n",
        "- [ ] Get your model's test accuracy. (One time, at the end.)\n",
        "- [ ] Commit your notebook to your fork of the GitHub repo.\n",
        "\n",
        "\n",
        "## Stretch Goals\n",
        "\n",
        "- [ ] Add your own stretch goal(s) !\n",
        "- [ ] Make exploratory visualizations.\n",
        "- [ ] Do one-hot encoding.\n",
        "- [ ] Do [feature scaling](https://scikit-learn.org/stable/modules/preprocessing.html).\n",
        "- [ ] Get and plot your coefficients.\n",
        "- [ ] Try [scikit-learn pipelines](https://scikit-learn.org/stable/modules/compose.html)."
      ]
    },
    {
      "cell_type": "code",
      "metadata": {
        "id": "o9eSnDYhUGD7"
      },
      "source": [
        "%%capture\n",
        "import sys\n",
        "\n",
        "# If you're on Colab:\n",
        "if 'google.colab' in sys.modules:\n",
        "    DATA_PATH = 'https://raw.githubusercontent.com/LambdaSchool/DS-Unit-2-Linear-Models/master/data/'\n",
        "    !pip install category_encoders==2.*\n",
        "\n",
        "# If you're working locally:\n",
        "else:\n",
        "    DATA_PATH = '../data/'"
      ],
      "execution_count": 304,
      "outputs": []
    },
    {
      "cell_type": "code",
      "metadata": {
        "id": "nzuuBixiKieE"
      },
      "source": [
        "# Load data downloaded from https://srcole.github.io/100burritos/\n",
        "import pandas as pd\n",
        "df = pd.read_csv(DATA_PATH+'burritos/burritos.csv')"
      ],
      "execution_count": 305,
      "outputs": []
    },
    {
      "cell_type": "markdown",
      "metadata": {
        "id": "UQjWGWzjLR-d"
      },
      "source": [
        "## Wrangle"
      ]
    },
    {
      "cell_type": "code",
      "metadata": {
        "id": "wcZFf9mRKieH"
      },
      "source": [
        "# Derive binary classification target:\n",
        "# We define a 'Great' burrito as having an\n",
        "# overall rating of 4 or higher, on a 5 point scale.\n",
        "# Drop unrated burritos.\n",
        "df = df.dropna(subset=['overall'])\n",
        "df['Great'] = df['overall'] >= 4"
      ],
      "execution_count": 306,
      "outputs": []
    },
    {
      "cell_type": "code",
      "metadata": {
        "id": "a3MluPgaKieL"
      },
      "source": [
        "# Clean/combine the Burrito categories\n",
        "df['Burrito'] = df['Burrito'].str.lower()\n",
        "\n",
        "california = df['Burrito'].str.contains('california')\n",
        "asada = df['Burrito'].str.contains('asada')\n",
        "surf = df['Burrito'].str.contains('surf')\n",
        "carnitas = df['Burrito'].str.contains('carnitas')\n",
        "\n",
        "df.loc[california, 'Burrito'] = 'California'\n",
        "df.loc[asada, 'Burrito'] = 'Asada'\n",
        "df.loc[surf, 'Burrito'] = 'Surf & Turf'\n",
        "df.loc[carnitas, 'Burrito'] = 'Carnitas'\n",
        "df.loc[~california & ~asada & ~surf & ~carnitas, 'Burrito'] = 'Other'"
      ],
      "execution_count": 307,
      "outputs": []
    },
    {
      "cell_type": "code",
      "metadata": {
        "id": "ZYLpa9NaLv2r"
      },
      "source": [
        "def wrangle(df):\n",
        "  df['Date']= pd.to_datetime(df['Date'])\n",
        "  df['Month'] = df['Date'].dt.month\n",
        "  df['Year'] = df['Date'].dt.year\n",
        "\n",
        "  df['Great'] = df['Great'].astype(int)\n",
        "\n",
        "  # Drop some high cardinality categoricals and leakage\n",
        "  df = df.drop(columns=['Notes',\n",
        "                        'Location', \n",
        "                        'Reviewer', 'Address', \n",
        "                        'URL', \n",
        "                        'Neighborhood', \n",
        "                        'Rec',\n",
        "                        'overall', \n",
        "                        'Date'])\n",
        "  # Subset\n",
        "  df = df[['Burrito', \n",
        "           'Cost', \n",
        "           'Hunger', \n",
        "           'Tortilla', \n",
        "           'Temp', \n",
        "           'Meat', \n",
        "           'Fillings',\n",
        "           'Meat:filling', \n",
        "           'Uniformity',\n",
        "           'Salsa', \n",
        "           'Synergy', \n",
        "           'Wrap', \n",
        "           'Great', \n",
        "           'Month', \n",
        "           'Year']]\n",
        "\n",
        "\n",
        "  return df\n",
        "\n",
        "df = wrangle(df)"
      ],
      "execution_count": 308,
      "outputs": []
    },
    {
      "cell_type": "code",
      "metadata": {
        "id": "9WeM0yPpPtCC",
        "outputId": "02d8427f-298a-47ef-f03c-8defc70052b5",
        "colab": {
          "base_uri": "https://localhost:8080/",
          "height": 146
        }
      },
      "source": [
        "print(df.shape)\n",
        "df.head(2)"
      ],
      "execution_count": 309,
      "outputs": [
        {
          "output_type": "stream",
          "text": [
            "(421, 15)\n"
          ],
          "name": "stdout"
        },
        {
          "output_type": "execute_result",
          "data": {
            "text/html": [
              "<div>\n",
              "<style scoped>\n",
              "    .dataframe tbody tr th:only-of-type {\n",
              "        vertical-align: middle;\n",
              "    }\n",
              "\n",
              "    .dataframe tbody tr th {\n",
              "        vertical-align: top;\n",
              "    }\n",
              "\n",
              "    .dataframe thead th {\n",
              "        text-align: right;\n",
              "    }\n",
              "</style>\n",
              "<table border=\"1\" class=\"dataframe\">\n",
              "  <thead>\n",
              "    <tr style=\"text-align: right;\">\n",
              "      <th></th>\n",
              "      <th>Burrito</th>\n",
              "      <th>Cost</th>\n",
              "      <th>Hunger</th>\n",
              "      <th>Tortilla</th>\n",
              "      <th>Temp</th>\n",
              "      <th>Meat</th>\n",
              "      <th>Fillings</th>\n",
              "      <th>Meat:filling</th>\n",
              "      <th>Uniformity</th>\n",
              "      <th>Salsa</th>\n",
              "      <th>Synergy</th>\n",
              "      <th>Wrap</th>\n",
              "      <th>Great</th>\n",
              "      <th>Month</th>\n",
              "      <th>Year</th>\n",
              "    </tr>\n",
              "  </thead>\n",
              "  <tbody>\n",
              "    <tr>\n",
              "      <th>0</th>\n",
              "      <td>California</td>\n",
              "      <td>6.49</td>\n",
              "      <td>3.0</td>\n",
              "      <td>3.0</td>\n",
              "      <td>5.0</td>\n",
              "      <td>3.0</td>\n",
              "      <td>3.5</td>\n",
              "      <td>4.0</td>\n",
              "      <td>4.0</td>\n",
              "      <td>4.0</td>\n",
              "      <td>4.0</td>\n",
              "      <td>4.0</td>\n",
              "      <td>0</td>\n",
              "      <td>1</td>\n",
              "      <td>2016</td>\n",
              "    </tr>\n",
              "    <tr>\n",
              "      <th>1</th>\n",
              "      <td>California</td>\n",
              "      <td>5.45</td>\n",
              "      <td>3.5</td>\n",
              "      <td>2.0</td>\n",
              "      <td>3.5</td>\n",
              "      <td>2.5</td>\n",
              "      <td>2.5</td>\n",
              "      <td>2.0</td>\n",
              "      <td>4.0</td>\n",
              "      <td>3.5</td>\n",
              "      <td>2.5</td>\n",
              "      <td>5.0</td>\n",
              "      <td>0</td>\n",
              "      <td>1</td>\n",
              "      <td>2016</td>\n",
              "    </tr>\n",
              "  </tbody>\n",
              "</table>\n",
              "</div>"
            ],
            "text/plain": [
              "      Burrito  Cost  Hunger  Tortilla  Temp  ...  Synergy  Wrap  Great  Month  Year\n",
              "0  California  6.49     3.0       3.0   5.0  ...      4.0   4.0      0      1  2016\n",
              "1  California  5.45     3.5       2.0   3.5  ...      2.5   5.0      0      1  2016\n",
              "\n",
              "[2 rows x 15 columns]"
            ]
          },
          "metadata": {
            "tags": []
          },
          "execution_count": 309
        }
      ]
    },
    {
      "cell_type": "code",
      "metadata": {
        "id": "Gyfng89YcHXB",
        "outputId": "bfee4003-716d-48cd-bbbb-c085a7e11ef5",
        "colab": {
          "base_uri": "https://localhost:8080/",
          "height": 417
        }
      },
      "source": [
        "df.info()"
      ],
      "execution_count": 310,
      "outputs": [
        {
          "output_type": "stream",
          "text": [
            "<class 'pandas.core.frame.DataFrame'>\n",
            "Int64Index: 421 entries, 0 to 422\n",
            "Data columns (total 15 columns):\n",
            " #   Column        Non-Null Count  Dtype  \n",
            "---  ------        --------------  -----  \n",
            " 0   Burrito       421 non-null    object \n",
            " 1   Cost          414 non-null    float64\n",
            " 2   Hunger        418 non-null    float64\n",
            " 3   Tortilla      421 non-null    float64\n",
            " 4   Temp          401 non-null    float64\n",
            " 5   Meat          407 non-null    float64\n",
            " 6   Fillings      418 non-null    float64\n",
            " 7   Meat:filling  412 non-null    float64\n",
            " 8   Uniformity    419 non-null    float64\n",
            " 9   Salsa         396 non-null    float64\n",
            " 10  Synergy       419 non-null    float64\n",
            " 11  Wrap          418 non-null    float64\n",
            " 12  Great         421 non-null    int64  \n",
            " 13  Month         421 non-null    int64  \n",
            " 14  Year          421 non-null    int64  \n",
            "dtypes: float64(11), int64(3), object(1)\n",
            "memory usage: 52.6+ KB\n"
          ],
          "name": "stdout"
        }
      ]
    },
    {
      "cell_type": "code",
      "metadata": {
        "id": "5Sqc_6k-Yqfb",
        "outputId": "e0134353-d876-4f0b-de94-9af51ec1575b",
        "colab": {
          "base_uri": "https://localhost:8080/",
          "height": 218
        }
      },
      "source": [
        "df.head()"
      ],
      "execution_count": 311,
      "outputs": [
        {
          "output_type": "execute_result",
          "data": {
            "text/html": [
              "<div>\n",
              "<style scoped>\n",
              "    .dataframe tbody tr th:only-of-type {\n",
              "        vertical-align: middle;\n",
              "    }\n",
              "\n",
              "    .dataframe tbody tr th {\n",
              "        vertical-align: top;\n",
              "    }\n",
              "\n",
              "    .dataframe thead th {\n",
              "        text-align: right;\n",
              "    }\n",
              "</style>\n",
              "<table border=\"1\" class=\"dataframe\">\n",
              "  <thead>\n",
              "    <tr style=\"text-align: right;\">\n",
              "      <th></th>\n",
              "      <th>Burrito</th>\n",
              "      <th>Cost</th>\n",
              "      <th>Hunger</th>\n",
              "      <th>Tortilla</th>\n",
              "      <th>Temp</th>\n",
              "      <th>Meat</th>\n",
              "      <th>Fillings</th>\n",
              "      <th>Meat:filling</th>\n",
              "      <th>Uniformity</th>\n",
              "      <th>Salsa</th>\n",
              "      <th>Synergy</th>\n",
              "      <th>Wrap</th>\n",
              "      <th>Great</th>\n",
              "      <th>Month</th>\n",
              "      <th>Year</th>\n",
              "    </tr>\n",
              "  </thead>\n",
              "  <tbody>\n",
              "    <tr>\n",
              "      <th>0</th>\n",
              "      <td>California</td>\n",
              "      <td>6.49</td>\n",
              "      <td>3.0</td>\n",
              "      <td>3.0</td>\n",
              "      <td>5.0</td>\n",
              "      <td>3.0</td>\n",
              "      <td>3.5</td>\n",
              "      <td>4.0</td>\n",
              "      <td>4.0</td>\n",
              "      <td>4.0</td>\n",
              "      <td>4.0</td>\n",
              "      <td>4.0</td>\n",
              "      <td>0</td>\n",
              "      <td>1</td>\n",
              "      <td>2016</td>\n",
              "    </tr>\n",
              "    <tr>\n",
              "      <th>1</th>\n",
              "      <td>California</td>\n",
              "      <td>5.45</td>\n",
              "      <td>3.5</td>\n",
              "      <td>2.0</td>\n",
              "      <td>3.5</td>\n",
              "      <td>2.5</td>\n",
              "      <td>2.5</td>\n",
              "      <td>2.0</td>\n",
              "      <td>4.0</td>\n",
              "      <td>3.5</td>\n",
              "      <td>2.5</td>\n",
              "      <td>5.0</td>\n",
              "      <td>0</td>\n",
              "      <td>1</td>\n",
              "      <td>2016</td>\n",
              "    </tr>\n",
              "    <tr>\n",
              "      <th>2</th>\n",
              "      <td>Carnitas</td>\n",
              "      <td>4.85</td>\n",
              "      <td>1.5</td>\n",
              "      <td>3.0</td>\n",
              "      <td>2.0</td>\n",
              "      <td>2.5</td>\n",
              "      <td>3.0</td>\n",
              "      <td>4.5</td>\n",
              "      <td>4.0</td>\n",
              "      <td>3.0</td>\n",
              "      <td>3.0</td>\n",
              "      <td>5.0</td>\n",
              "      <td>0</td>\n",
              "      <td>1</td>\n",
              "      <td>2016</td>\n",
              "    </tr>\n",
              "    <tr>\n",
              "      <th>3</th>\n",
              "      <td>Asada</td>\n",
              "      <td>5.25</td>\n",
              "      <td>2.0</td>\n",
              "      <td>3.0</td>\n",
              "      <td>2.0</td>\n",
              "      <td>3.5</td>\n",
              "      <td>3.0</td>\n",
              "      <td>4.0</td>\n",
              "      <td>5.0</td>\n",
              "      <td>4.0</td>\n",
              "      <td>4.0</td>\n",
              "      <td>5.0</td>\n",
              "      <td>0</td>\n",
              "      <td>1</td>\n",
              "      <td>2016</td>\n",
              "    </tr>\n",
              "    <tr>\n",
              "      <th>4</th>\n",
              "      <td>California</td>\n",
              "      <td>6.59</td>\n",
              "      <td>4.0</td>\n",
              "      <td>4.0</td>\n",
              "      <td>5.0</td>\n",
              "      <td>4.0</td>\n",
              "      <td>3.5</td>\n",
              "      <td>4.5</td>\n",
              "      <td>5.0</td>\n",
              "      <td>2.5</td>\n",
              "      <td>4.5</td>\n",
              "      <td>4.0</td>\n",
              "      <td>1</td>\n",
              "      <td>1</td>\n",
              "      <td>2016</td>\n",
              "    </tr>\n",
              "  </tbody>\n",
              "</table>\n",
              "</div>"
            ],
            "text/plain": [
              "      Burrito  Cost  Hunger  Tortilla  Temp  ...  Synergy  Wrap  Great  Month  Year\n",
              "0  California  6.49     3.0       3.0   5.0  ...      4.0   4.0      0      1  2016\n",
              "1  California  5.45     3.5       2.0   3.5  ...      2.5   5.0      0      1  2016\n",
              "2    Carnitas  4.85     1.5       3.0   2.0  ...      3.0   5.0      0      1  2016\n",
              "3       Asada  5.25     2.0       3.0   2.0  ...      4.0   5.0      0      1  2016\n",
              "4  California  6.59     4.0       4.0   5.0  ...      4.5   4.0      1      1  2016\n",
              "\n",
              "[5 rows x 15 columns]"
            ]
          },
          "metadata": {
            "tags": []
          },
          "execution_count": 311
        }
      ]
    },
    {
      "cell_type": "markdown",
      "metadata": {
        "id": "OlU5HRTAWXIh"
      },
      "source": [
        "### Split into train and val sets"
      ]
    },
    {
      "cell_type": "code",
      "metadata": {
        "id": "g_lCJ5SXQdn5"
      },
      "source": [
        "#from sklearn.model_selection import train_test_split\n",
        "#\n",
        "#X_train, X_val, y_train, y_val = train_test_split(X, y, test_size=0.2, random_state=42)\n",
        "#\n",
        "#X_train.shape, X_val.shape, y_train.shape, y_val.shape"
      ],
      "execution_count": 312,
      "outputs": []
    },
    {
      "cell_type": "code",
      "metadata": {
        "id": "Zs22AMUMYRmu",
        "outputId": "65251e64-87d9-4911-8123-a517bd18b19c",
        "colab": {
          "base_uri": "https://localhost:8080/",
          "height": 35
        }
      },
      "source": [
        "train = df[df.Year <= 2016]\n",
        "val = df[df.Year == 2017]\n",
        "test = df[df.Year >= 2018]\n",
        "train.shape, val.shape, test.shape"
      ],
      "execution_count": 313,
      "outputs": [
        {
          "output_type": "execute_result",
          "data": {
            "text/plain": [
              "((298, 15), (85, 15), (38, 15))"
            ]
          },
          "metadata": {
            "tags": []
          },
          "execution_count": 313
        }
      ]
    },
    {
      "cell_type": "code",
      "metadata": {
        "id": "BbtpnUVg0k2Y",
        "outputId": "42e4bd58-bef7-4ea2-ec0f-735753c60841",
        "colab": {
          "base_uri": "https://localhost:8080/",
          "height": 218
        }
      },
      "source": [
        "train.head()"
      ],
      "execution_count": 314,
      "outputs": [
        {
          "output_type": "execute_result",
          "data": {
            "text/html": [
              "<div>\n",
              "<style scoped>\n",
              "    .dataframe tbody tr th:only-of-type {\n",
              "        vertical-align: middle;\n",
              "    }\n",
              "\n",
              "    .dataframe tbody tr th {\n",
              "        vertical-align: top;\n",
              "    }\n",
              "\n",
              "    .dataframe thead th {\n",
              "        text-align: right;\n",
              "    }\n",
              "</style>\n",
              "<table border=\"1\" class=\"dataframe\">\n",
              "  <thead>\n",
              "    <tr style=\"text-align: right;\">\n",
              "      <th></th>\n",
              "      <th>Burrito</th>\n",
              "      <th>Cost</th>\n",
              "      <th>Hunger</th>\n",
              "      <th>Tortilla</th>\n",
              "      <th>Temp</th>\n",
              "      <th>Meat</th>\n",
              "      <th>Fillings</th>\n",
              "      <th>Meat:filling</th>\n",
              "      <th>Uniformity</th>\n",
              "      <th>Salsa</th>\n",
              "      <th>Synergy</th>\n",
              "      <th>Wrap</th>\n",
              "      <th>Great</th>\n",
              "      <th>Month</th>\n",
              "      <th>Year</th>\n",
              "    </tr>\n",
              "  </thead>\n",
              "  <tbody>\n",
              "    <tr>\n",
              "      <th>0</th>\n",
              "      <td>California</td>\n",
              "      <td>6.49</td>\n",
              "      <td>3.0</td>\n",
              "      <td>3.0</td>\n",
              "      <td>5.0</td>\n",
              "      <td>3.0</td>\n",
              "      <td>3.5</td>\n",
              "      <td>4.0</td>\n",
              "      <td>4.0</td>\n",
              "      <td>4.0</td>\n",
              "      <td>4.0</td>\n",
              "      <td>4.0</td>\n",
              "      <td>0</td>\n",
              "      <td>1</td>\n",
              "      <td>2016</td>\n",
              "    </tr>\n",
              "    <tr>\n",
              "      <th>1</th>\n",
              "      <td>California</td>\n",
              "      <td>5.45</td>\n",
              "      <td>3.5</td>\n",
              "      <td>2.0</td>\n",
              "      <td>3.5</td>\n",
              "      <td>2.5</td>\n",
              "      <td>2.5</td>\n",
              "      <td>2.0</td>\n",
              "      <td>4.0</td>\n",
              "      <td>3.5</td>\n",
              "      <td>2.5</td>\n",
              "      <td>5.0</td>\n",
              "      <td>0</td>\n",
              "      <td>1</td>\n",
              "      <td>2016</td>\n",
              "    </tr>\n",
              "    <tr>\n",
              "      <th>2</th>\n",
              "      <td>Carnitas</td>\n",
              "      <td>4.85</td>\n",
              "      <td>1.5</td>\n",
              "      <td>3.0</td>\n",
              "      <td>2.0</td>\n",
              "      <td>2.5</td>\n",
              "      <td>3.0</td>\n",
              "      <td>4.5</td>\n",
              "      <td>4.0</td>\n",
              "      <td>3.0</td>\n",
              "      <td>3.0</td>\n",
              "      <td>5.0</td>\n",
              "      <td>0</td>\n",
              "      <td>1</td>\n",
              "      <td>2016</td>\n",
              "    </tr>\n",
              "    <tr>\n",
              "      <th>3</th>\n",
              "      <td>Asada</td>\n",
              "      <td>5.25</td>\n",
              "      <td>2.0</td>\n",
              "      <td>3.0</td>\n",
              "      <td>2.0</td>\n",
              "      <td>3.5</td>\n",
              "      <td>3.0</td>\n",
              "      <td>4.0</td>\n",
              "      <td>5.0</td>\n",
              "      <td>4.0</td>\n",
              "      <td>4.0</td>\n",
              "      <td>5.0</td>\n",
              "      <td>0</td>\n",
              "      <td>1</td>\n",
              "      <td>2016</td>\n",
              "    </tr>\n",
              "    <tr>\n",
              "      <th>4</th>\n",
              "      <td>California</td>\n",
              "      <td>6.59</td>\n",
              "      <td>4.0</td>\n",
              "      <td>4.0</td>\n",
              "      <td>5.0</td>\n",
              "      <td>4.0</td>\n",
              "      <td>3.5</td>\n",
              "      <td>4.5</td>\n",
              "      <td>5.0</td>\n",
              "      <td>2.5</td>\n",
              "      <td>4.5</td>\n",
              "      <td>4.0</td>\n",
              "      <td>1</td>\n",
              "      <td>1</td>\n",
              "      <td>2016</td>\n",
              "    </tr>\n",
              "  </tbody>\n",
              "</table>\n",
              "</div>"
            ],
            "text/plain": [
              "      Burrito  Cost  Hunger  Tortilla  Temp  ...  Synergy  Wrap  Great  Month  Year\n",
              "0  California  6.49     3.0       3.0   5.0  ...      4.0   4.0      0      1  2016\n",
              "1  California  5.45     3.5       2.0   3.5  ...      2.5   5.0      0      1  2016\n",
              "2    Carnitas  4.85     1.5       3.0   2.0  ...      3.0   5.0      0      1  2016\n",
              "3       Asada  5.25     2.0       3.0   2.0  ...      4.0   5.0      0      1  2016\n",
              "4  California  6.59     4.0       4.0   5.0  ...      4.5   4.0      1      1  2016\n",
              "\n",
              "[5 rows x 15 columns]"
            ]
          },
          "metadata": {
            "tags": []
          },
          "execution_count": 314
        }
      ]
    },
    {
      "cell_type": "markdown",
      "metadata": {
        "id": "BZ93KEdpT-zG"
      },
      "source": [
        "### Split TV from FM"
      ]
    },
    {
      "cell_type": "code",
      "metadata": {
        "id": "wLKwa0UIU95S"
      },
      "source": [
        "target = 'Great'\n",
        "y_train = train[target]\n",
        "X_train = train.drop(columns=target)\n",
        "\n",
        "y_val = val[target]\n",
        "X_val = val.drop(columns=target)\n",
        "\n",
        "y_test = test[target]\n",
        "X_test = test.drop(columns=target)\n",
        "\n",
        "assert len(y_train) + len(y_val) + len(y_test) == len(y)\n",
        "assert len(X_train) + len(X_val) + len(X_test) == len(X)"
      ],
      "execution_count": 315,
      "outputs": []
    },
    {
      "cell_type": "code",
      "metadata": {
        "id": "_eEvB9OoQQJL",
        "outputId": "7dae3a1d-ee19-4879-d98c-479d2b5d860f",
        "colab": {
          "base_uri": "https://localhost:8080/",
          "height": 35
        }
      },
      "source": [
        "X_train.shape, X_val.shape"
      ],
      "execution_count": 316,
      "outputs": [
        {
          "output_type": "execute_result",
          "data": {
            "text/plain": [
              "((298, 14), (85, 14))"
            ]
          },
          "metadata": {
            "tags": []
          },
          "execution_count": 316
        }
      ]
    },
    {
      "cell_type": "markdown",
      "metadata": {
        "id": "5UN6i7l4WmPo"
      },
      "source": [
        "## Establish Baseline"
      ]
    },
    {
      "cell_type": "code",
      "metadata": {
        "id": "_6vnChPoWZ8f",
        "outputId": "8082923e-3795-47ec-fdb8-1efa309727ab",
        "colab": {
          "base_uri": "https://localhost:8080/",
          "height": 35
        }
      },
      "source": [
        "baseline = y_train.value_counts(normalize = True).max()\n",
        "print(f'Baseline is: {baseline}')"
      ],
      "execution_count": 317,
      "outputs": [
        {
          "output_type": "stream",
          "text": [
            "Baseline is: 0.5906040268456376\n"
          ],
          "name": "stdout"
        }
      ]
    },
    {
      "cell_type": "markdown",
      "metadata": {
        "id": "q40KYqkbXF1M"
      },
      "source": [
        "## Build Logistic Regression Model\n",
        "Two issues:\n",
        "\n",
        "- Categorical features that need to be encoded\n",
        "- Missing values that need to be **imputed**."
      ]
    },
    {
      "cell_type": "code",
      "metadata": {
        "id": "yUFSktQxXUqR"
      },
      "source": [
        "from category_encoders import OneHotEncoder\n",
        "from sklearn.impute import SimpleImputer\n",
        "from sklearn.linear_model import LinearRegression, LogisticRegression\n",
        "from sklearn.pipeline import make_pipeline\n",
        "from sklearn.preprocessing import StandardScaler"
      ],
      "execution_count": 318,
      "outputs": []
    },
    {
      "cell_type": "code",
      "metadata": {
        "id": "8068k7ThXZPM",
        "outputId": "f15f78c4-7ed3-4171-edae-a78450d58b87",
        "colab": {
          "base_uri": "https://localhost:8080/",
          "height": 74
        }
      },
      "source": [
        "model_log = make_pipeline(\n",
        "       OneHotEncoder(use_cat_names=True),\n",
        "       SimpleImputer(),\n",
        "       StandardScaler(),\n",
        "       LogisticRegression()\n",
        ")\n",
        "\n",
        "model_log.fit(X_train, y_train);"
      ],
      "execution_count": 319,
      "outputs": [
        {
          "output_type": "stream",
          "text": [
            "/usr/local/lib/python3.6/dist-packages/category_encoders/utils.py:21: FutureWarning: is_categorical is deprecated and will be removed in a future version.  Use is_categorical_dtype instead\n",
            "  elif pd.api.types.is_categorical(cols):\n"
          ],
          "name": "stderr"
        }
      ]
    },
    {
      "cell_type": "markdown",
      "metadata": {
        "id": "PphD5SQgXrw2"
      },
      "source": [
        "### Check for Metrics"
      ]
    },
    {
      "cell_type": "code",
      "metadata": {
        "id": "1kFdbw9LXuzt",
        "outputId": "1a55db2c-17f1-43b2-eb1d-08fb1ea97408",
        "colab": {
          "base_uri": "https://localhost:8080/",
          "height": 72
        }
      },
      "source": [
        "print('Training Accuracy Score:', model_log.score(X_train, y_train))\n",
        "print('Validation Accuracy Score:', model_log.score(X_val, y_val))\n",
        "print('Test Accuracy Score:', model_log.score(X_test, y_test))"
      ],
      "execution_count": 320,
      "outputs": [
        {
          "output_type": "stream",
          "text": [
            "Training Accuracy Score: 0.889261744966443\n",
            "Validation Accuracy Score: 0.8117647058823529\n",
            "Test Accuracy Score: 0.7631578947368421\n"
          ],
          "name": "stdout"
        }
      ]
    },
    {
      "cell_type": "markdown",
      "metadata": {
        "id": "-yHcgw6Alk7I"
      },
      "source": [
        "### Visualize Logistic Regression Results"
      ]
    },
    {
      "cell_type": "code",
      "metadata": {
        "id": "Tngzv2yQlp59",
        "outputId": "f56eb1cf-6f99-45a8-fb24-5ab6718d7710",
        "colab": {
          "base_uri": "https://localhost:8080/",
          "height": 735
        }
      },
      "source": [
        "import matplotlib.pyplot as plt\n",
        "import seaborn as sns\n",
        "\n",
        "log_coef = model_log.named_steps['logisticregression'].coef_\n",
        "log_feat = model_log.named_steps['onehotencoder'].get_feature_names()\n",
        "\n",
        "\n",
        "data1= pd.DataFrame(log_coef[0], log_feat, columns = ['coef'])\n",
        "data1.reset_index(inplace=True)\n",
        "\n",
        "f,ax = plt.subplots(figsize=(6,12))\n",
        "\n",
        "sns.color_palette(\"bright\")\n",
        "ax.set_title ('Coefficients', fontdict={'size': 20})\n",
        "\n",
        "sns.barplot(x=\"coef\", y=\"index\", data=data1.sort_values(by = 'coef', ascending = False),\n",
        "            label=\"Total\", color=\"b\");"
      ],
      "execution_count": 321,
      "outputs": [
        {
          "output_type": "display_data",
          "data": {
            "image/png": "[encoded data removed]",
            "text/plain": [
              "<Figure size 432x864 with 1 Axes>"
            ]
          },
          "metadata": {
            "tags": [],
            "needs_background": "light"
          }
        }
      ]
    },
    {
      "cell_type": "code",
      "metadata": {
        "id": "_cohQfQE3gcT",
        "outputId": "22e69b7a-e51d-4ce7-f3e8-c26203de57b6",
        "colab": {
          "base_uri": "https://localhost:8080/",
          "height": 35
        }
      },
      "source": [
        "len(log_coef[0])"
      ],
      "execution_count": 322,
      "outputs": [
        {
          "output_type": "execute_result",
          "data": {
            "text/plain": [
              "18"
            ]
          },
          "metadata": {
            "tags": []
          },
          "execution_count": 322
        }
      ]
    },
    {
      "cell_type": "code",
      "metadata": {
        "id": "6rMnTnrqrAsv",
        "outputId": "2e78999c-f23f-4e16-8e02-5244e462373d",
        "colab": {
          "base_uri": "https://localhost:8080/",
          "height": 279
        }
      },
      "source": [
        "import numpy as np \n",
        "import math \n",
        "  \n",
        "x = np.linspace(0, 5, 100) \n",
        "z = 1/(1 + 3.5*np.exp(-2*x+4.5)) \n",
        "  \n",
        "plt.plot(x, z) \n",
        "plt.xlabel(\"x\") \n",
        "plt.ylabel(\"Sigmoid(X)\") \n",
        "\n",
        "plt.scatter(df['Meat:filling'], df['Great'], c='red')  \n",
        "plt.scatter(df['Synergy'], df['Great'])\n",
        "\n",
        "plt.show(); "
      ],
      "execution_count": 323,
      "outputs": [
        {
          "output_type": "display_data",
          "data": {
            "image/png": "[encoded data removed]",
            "text/plain": [
              "<Figure size 432x288 with 1 Axes>"
            ]
          },
          "metadata": {
            "tags": [],
            "needs_background": "light"
          }
        }
      ]
    },
    {
      "cell_type": "markdown",
      "metadata": {
        "id": "uV8ZpVuxdchI"
      },
      "source": [
        "## Build Linear Regression Model"
      ]
    },
    {
      "cell_type": "code",
      "metadata": {
        "id": "2w_ubw4-disK",
        "outputId": "eb5ac2fd-ed30-47bd-c905-8aa647804d0b",
        "colab": {
          "base_uri": "https://localhost:8080/",
          "height": 74
        }
      },
      "source": [
        "model_lin = make_pipeline(\n",
        "       OneHotEncoder(use_cat_names=True),\n",
        "       SimpleImputer(),\n",
        "       StandardScaler(),\n",
        "       LinearRegression()\n",
        ")\n",
        "\n",
        "model_lin.fit(X_train, y_train);"
      ],
      "execution_count": 324,
      "outputs": [
        {
          "output_type": "stream",
          "text": [
            "/usr/local/lib/python3.6/dist-packages/category_encoders/utils.py:21: FutureWarning: is_categorical is deprecated and will be removed in a future version.  Use is_categorical_dtype instead\n",
            "  elif pd.api.types.is_categorical(cols):\n"
          ],
          "name": "stderr"
        }
      ]
    },
    {
      "cell_type": "markdown",
      "metadata": {
        "id": "agqPMn9Qdm-K"
      },
      "source": [
        "### Check for Metrics"
      ]
    },
    {
      "cell_type": "code",
      "metadata": {
        "id": "rUI3w1-0dpaZ",
        "outputId": "1ac2e926-aa8c-4870-f174-052d88139a15",
        "colab": {
          "base_uri": "https://localhost:8080/",
          "height": 72
        }
      },
      "source": [
        "from sklearn.metrics import mean_absolute_error, r2_score\n",
        "\n",
        "print('Training MAE Score:', mean_absolute_error(y_train, model_lin.predict(X_train)))\n",
        "print('Validation MAE Score:', mean_absolute_error(y_val, model_lin.predict(X_val)))\n",
        "print('Test MAE Score:', mean_absolute_error(y_test, model_lin.predict(X_test)))"
      ],
      "execution_count": 325,
      "outputs": [
        {
          "output_type": "stream",
          "text": [
            "Training MAE Score: 0.28251781432046874\n",
            "Validation MAE Score: 0.34641193016427546\n",
            "Test MAE Score: 0.33981082613448865\n"
          ],
          "name": "stdout"
        }
      ]
    },
    {
      "cell_type": "code",
      "metadata": {
        "id": "ySqdcQiIejCV",
        "outputId": "5260a27e-8f3a-4ce1-ce3f-c1e4a5fcf706",
        "colab": {
          "base_uri": "https://localhost:8080/",
          "height": 72
        }
      },
      "source": [
        "print('Training R2 Score:', r2_score(y_train, model_lin.predict(X_train)))\n",
        "print('Validation R2 Score:', r2_score(y_val, model_lin.predict(X_val)))\n",
        "print('Test R2 Score:', r2_score(y_test, model_lin.predict(X_test)))"
      ],
      "execution_count": 326,
      "outputs": [
        {
          "output_type": "stream",
          "text": [
            "Training R2 Score: 0.5454240264407666\n",
            "Validation R2 Score: 0.4088320969784398\n",
            "Test R2 Score: 0.3851655428252786\n"
          ],
          "name": "stdout"
        }
      ]
    },
    {
      "cell_type": "code",
      "metadata": {
        "id": "Wgy8NN3tev84",
        "outputId": "a09c9293-0d49-4798-ba6d-487581609baf",
        "colab": {
          "base_uri": "https://localhost:8080/",
          "height": 72
        }
      },
      "source": [
        "print('Training Accuracy Score:', model_lin.score(X_train, y_train))\n",
        "print('Validation Accuracy Score:', model_lin.score(X_val, y_val))\n",
        "print('Test Accuracy Score:', model_lin.score(X_test, y_test))"
      ],
      "execution_count": 327,
      "outputs": [
        {
          "output_type": "stream",
          "text": [
            "Training Accuracy Score: 0.5454240264407666\n",
            "Validation Accuracy Score: 0.40883209697843975\n",
            "Test Accuracy Score: 0.3851655428252786\n"
          ],
          "name": "stdout"
        }
      ]
    },
    {
      "cell_type": "markdown",
      "metadata": {
        "id": "h4TjDNz6fKEJ"
      },
      "source": [
        "### Visualize Coefficients"
      ]
    },
    {
      "cell_type": "code",
      "metadata": {
        "id": "Jvsbay_ufOAF",
        "outputId": "faf1a635-c802-4e5f-9f76-d172678a5224",
        "colab": {
          "base_uri": "https://localhost:8080/",
          "height": 735
        }
      },
      "source": [
        "import matplotlib.pyplot as plt\n",
        "import seaborn as sns\n",
        "\n",
        "coefficients = model_lin.named_steps['linearregression'].coef_\n",
        "features = model_lin.named_steps['onehotencoder'].get_feature_names()\n",
        "\n",
        "data = {'features':features, 'coef': coefficients}\n",
        "coef_df = pd.DataFrame(data)\n",
        "\n",
        "f,ax = plt.subplots(figsize=(6,12))\n",
        "\n",
        "sns.set_color_codes(\"pastel\")\n",
        "ax.set_title ('Coefficients', fontdict={'size': 20})\n",
        "\n",
        "sns.barplot(x=\"coef\", y=\"features\", data=coef_df.sort_values(by = 'coef', ascending = False),\n",
        "            label=\"Total\", color=\"b\");\n"
      ],
      "execution_count": 328,
      "outputs": [
        {
          "output_type": "display_data",
          "data": {
            "image/png": "[encoded data removed]",
            "text/plain": [
              "<Figure size 432x864 with 1 Axes>"
            ]
          },
          "metadata": {
            "tags": [],
            "needs_background": "light"
          }
        }
      ]
    }
  ]
}