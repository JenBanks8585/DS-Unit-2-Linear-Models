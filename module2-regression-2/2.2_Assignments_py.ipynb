{
  "nbformat": 4,
  "nbformat_minor": 0,
  "metadata": {
    "colab": {
      "name": "2.2_Assignments.py",
      "provenance": [],
      "authorship_tag": "ABX9TyMoF6WYcTxUMUfw2+6/IIzm",
      "include_colab_link": true
    },
    "kernelspec": {
      "name": "python3",
      "display_name": "Python 3"
    }
  },
  "cells": [
    {
      "cell_type": "markdown",
      "metadata": {
        "id": "view-in-github",
        "colab_type": "text"
      },
      "source": [
        "<a href=\"https://colab.research.google.com/github/JenBanks8585/DS-Unit-2-Linear-Models/blob/master/module2-regression-2/2.2_Assignments_py.ipynb\" target=\"_parent\"><img src=\"https://colab.research.google.com/assets/colab-badge.svg\" alt=\"Open In Colab\"/></a>"
      ]
    },
    {
      "cell_type": "code",
      "metadata": {
        "id": "uHf-sye9C7Ou"
      },
      "source": [
        "%%capture\n",
        "import sys\n",
        "\n",
        "# If you're on Colab:\n",
        "if 'google.colab' in sys.modules:\n",
        "    DATA_PATH = 'https://raw.githubusercontent.com/LambdaSchool/DS-Unit-2-Applied-Modeling/master/data/'\n",
        "    !pip install category_encoders==2.*\n",
        "\n",
        "# If you're working locally:\n",
        "else:\n",
        "    DATA_PATH = '../data/'\n",
        "    \n",
        "# Ignore this Numpy warning when using Plotly Express:\n",
        "# FutureWarning: Method .ptp is deprecated and will be removed in a future version. Use numpy.ptp instead.\n",
        "import warnings\n",
        "warnings.filterwarnings(action='ignore', category=FutureWarning, module='numpy')"
      ],
      "execution_count": 20,
      "outputs": []
    },
    {
      "cell_type": "code",
      "metadata": {
        "id": "uUqFzpVTDHkh"
      },
      "source": [
        "import numpy as np\n",
        "import pandas as pd\n",
        "\n",
        "# Read New York City apartment rental listing data\n",
        "df = pd.read_csv(DATA_PATH+'apartments/renthop-nyc.csv', parse_dates=['created'])#, index_col='created')\n",
        "assert df.shape == (49352, 34)\n",
        "\n",
        "# Remove the most extreme 1% prices,\n",
        "# the most extreme .1% latitudes, &\n",
        "# the most extreme .1% longitudes\n",
        "df = df[(df['price'] >= np.percentile(df['price'], 0.5)) & \n",
        "        (df['price'] <= np.percentile(df['price'], 99.5)) & \n",
        "        (df['latitude'] >= np.percentile(df['latitude'], 0.05)) & \n",
        "        (df['latitude'] < np.percentile(df['latitude'], 99.95)) &\n",
        "        (df['longitude'] >= np.percentile(df['longitude'], 0.05)) & \n",
        "        (df['longitude'] <= np.percentile(df['longitude'], 99.95))]"
      ],
      "execution_count": 149,
      "outputs": []
    },
    {
      "cell_type": "code",
      "metadata": {
        "id": "uCfnI7RlEos7",
        "outputId": "31563640-4494-4af8-8f47-158ad5266fc0",
        "colab": {
          "base_uri": "https://localhost:8080/",
          "height": 181
        }
      },
      "source": [
        "df.columns"
      ],
      "execution_count": 150,
      "outputs": [
        {
          "output_type": "execute_result",
          "data": {
            "text/plain": [
              "Index(['bathrooms', 'bedrooms', 'created', 'description', 'display_address',\n",
              "       'latitude', 'longitude', 'price', 'street_address', 'interest_level',\n",
              "       'elevator', 'cats_allowed', 'hardwood_floors', 'dogs_allowed',\n",
              "       'doorman', 'dishwasher', 'no_fee', 'laundry_in_building',\n",
              "       'fitness_center', 'pre-war', 'laundry_in_unit', 'roof_deck',\n",
              "       'outdoor_space', 'dining_room', 'high_speed_internet', 'balcony',\n",
              "       'swimming_pool', 'new_construction', 'terrace', 'exclusive', 'loft',\n",
              "       'garden_patio', 'wheelchair_access', 'common_outdoor_space'],\n",
              "      dtype='object')"
            ]
          },
          "metadata": {
            "tags": []
          },
          "execution_count": 150
        }
      ]
    },
    {
      "cell_type": "code",
      "metadata": {
        "id": "GJ8oq8KTD6Z8"
      },
      "source": [
        "df.info()"
      ],
      "execution_count": null,
      "outputs": []
    },
    {
      "cell_type": "markdown",
      "metadata": {
        "id": "3Zq8wmJWEPJf"
      },
      "source": [
        "## 1. Engineer Features"
      ]
    },
    {
      "cell_type": "code",
      "metadata": {
        "id": "uz0W5k4nE6mW"
      },
      "source": [
        "#df['apt_desc_yes_or_no'] = df['description'].apply(lambda x: 0 if df.loc[df['description']== np.NaN] else 1 )"
      ],
      "execution_count": null,
      "outputs": []
    },
    {
      "cell_type": "code",
      "metadata": {
        "id": "XRN6V6HeFGke"
      },
      "source": [
        "#cond = df['description']== np.NaN\n",
        "#df.loc[df['description']== np.NaN,'apt_desc_yes_or_no' ] = 0\n"
      ],
      "execution_count": 18,
      "outputs": []
    },
    {
      "cell_type": "code",
      "metadata": {
        "id": "2MUfZjdMEWcz",
        "outputId": "c1df51ef-ac46-4029-c869-f21a126bcf66",
        "colab": {
          "base_uri": "https://localhost:8080/",
          "height": 266
        }
      },
      "source": [
        "# Adding description length\n",
        "df['apt_desc_len'] = len(df['description'])\n",
        "\n",
        "# All perks\n",
        "df['perks'] = df.iloc[:, 9:-2].sum(axis = 1)\n",
        "\n",
        "# dogs and cats\n",
        "df['dogs and cats'] = df['dogs_allowed'] + df['cats_allowed']\n",
        "\n",
        "df['dogs or cats'] = [1 if x == 1 else 0 for x in df['dogs and cats']]\n",
        "df['dogs_and_cats'] = [1 if x == 2 else 0 for x in df['dogs and cats']]\n",
        "df['pets'] = [0 if x == 0 else 1 for x in df['dogs and cats']]\n",
        "df= df.drop('dogs and cats', axis= 1)\n",
        "\n",
        "# Total rooms\n",
        "df['total_rooms'] = df['bedrooms'] + df['bathrooms']\n",
        "\n",
        "# Room ratio\n",
        "df['bath_per_bed'] = df['bathrooms']/ df['bedrooms'] \n",
        "\n",
        "# Add month colum\n",
        "df['month'] = df['created'].dt.month\n",
        "\n",
        "df = df.replace({'interest_level':{\"medium\": 2, \"low\": 1, \"high\": 3}})\n",
        "\n",
        "\n",
        "df.head(2)"
      ],
      "execution_count": 151,
      "outputs": [
        {
          "output_type": "execute_result",
          "data": {
            "text/html": [
              "<div>\n",
              "<style scoped>\n",
              "    .dataframe tbody tr th:only-of-type {\n",
              "        vertical-align: middle;\n",
              "    }\n",
              "\n",
              "    .dataframe tbody tr th {\n",
              "        vertical-align: top;\n",
              "    }\n",
              "\n",
              "    .dataframe thead th {\n",
              "        text-align: right;\n",
              "    }\n",
              "</style>\n",
              "<table border=\"1\" class=\"dataframe\">\n",
              "  <thead>\n",
              "    <tr style=\"text-align: right;\">\n",
              "      <th></th>\n",
              "      <th>bathrooms</th>\n",
              "      <th>bedrooms</th>\n",
              "      <th>created</th>\n",
              "      <th>description</th>\n",
              "      <th>display_address</th>\n",
              "      <th>latitude</th>\n",
              "      <th>longitude</th>\n",
              "      <th>price</th>\n",
              "      <th>street_address</th>\n",
              "      <th>interest_level</th>\n",
              "      <th>elevator</th>\n",
              "      <th>cats_allowed</th>\n",
              "      <th>hardwood_floors</th>\n",
              "      <th>dogs_allowed</th>\n",
              "      <th>doorman</th>\n",
              "      <th>dishwasher</th>\n",
              "      <th>no_fee</th>\n",
              "      <th>laundry_in_building</th>\n",
              "      <th>fitness_center</th>\n",
              "      <th>pre-war</th>\n",
              "      <th>laundry_in_unit</th>\n",
              "      <th>roof_deck</th>\n",
              "      <th>outdoor_space</th>\n",
              "      <th>dining_room</th>\n",
              "      <th>high_speed_internet</th>\n",
              "      <th>balcony</th>\n",
              "      <th>swimming_pool</th>\n",
              "      <th>new_construction</th>\n",
              "      <th>terrace</th>\n",
              "      <th>exclusive</th>\n",
              "      <th>loft</th>\n",
              "      <th>garden_patio</th>\n",
              "      <th>wheelchair_access</th>\n",
              "      <th>common_outdoor_space</th>\n",
              "      <th>apt_desc_len</th>\n",
              "      <th>perks</th>\n",
              "      <th>dogs or cats</th>\n",
              "      <th>dogs_and_cats</th>\n",
              "      <th>pets</th>\n",
              "      <th>total_rooms</th>\n",
              "      <th>bath_per_bed</th>\n",
              "      <th>month</th>\n",
              "    </tr>\n",
              "  </thead>\n",
              "  <tbody>\n",
              "    <tr>\n",
              "      <th>0</th>\n",
              "      <td>1.5</td>\n",
              "      <td>3</td>\n",
              "      <td>2016-06-24 07:54:24</td>\n",
              "      <td>A Brand New 3 Bedroom 1.5 bath ApartmentEnjoy ...</td>\n",
              "      <td>Metropolitan Avenue</td>\n",
              "      <td>40.7145</td>\n",
              "      <td>-73.9425</td>\n",
              "      <td>3000</td>\n",
              "      <td>792 Metropolitan Avenue</td>\n",
              "      <td>2</td>\n",
              "      <td>0</td>\n",
              "      <td>0</td>\n",
              "      <td>0</td>\n",
              "      <td>0</td>\n",
              "      <td>0</td>\n",
              "      <td>0</td>\n",
              "      <td>0</td>\n",
              "      <td>0</td>\n",
              "      <td>0</td>\n",
              "      <td>0</td>\n",
              "      <td>0</td>\n",
              "      <td>0</td>\n",
              "      <td>0</td>\n",
              "      <td>0</td>\n",
              "      <td>0</td>\n",
              "      <td>0</td>\n",
              "      <td>0</td>\n",
              "      <td>0</td>\n",
              "      <td>0</td>\n",
              "      <td>0</td>\n",
              "      <td>0</td>\n",
              "      <td>0</td>\n",
              "      <td>0</td>\n",
              "      <td>0</td>\n",
              "      <td>48817</td>\n",
              "      <td>0</td>\n",
              "      <td>0</td>\n",
              "      <td>0</td>\n",
              "      <td>0</td>\n",
              "      <td>4.5</td>\n",
              "      <td>0.5</td>\n",
              "      <td>6</td>\n",
              "    </tr>\n",
              "    <tr>\n",
              "      <th>1</th>\n",
              "      <td>1.0</td>\n",
              "      <td>2</td>\n",
              "      <td>2016-06-12 12:19:27</td>\n",
              "      <td></td>\n",
              "      <td>Columbus Avenue</td>\n",
              "      <td>40.7947</td>\n",
              "      <td>-73.9667</td>\n",
              "      <td>5465</td>\n",
              "      <td>808 Columbus Avenue</td>\n",
              "      <td>1</td>\n",
              "      <td>1</td>\n",
              "      <td>1</td>\n",
              "      <td>0</td>\n",
              "      <td>1</td>\n",
              "      <td>1</td>\n",
              "      <td>0</td>\n",
              "      <td>0</td>\n",
              "      <td>0</td>\n",
              "      <td>1</td>\n",
              "      <td>0</td>\n",
              "      <td>0</td>\n",
              "      <td>0</td>\n",
              "      <td>0</td>\n",
              "      <td>0</td>\n",
              "      <td>0</td>\n",
              "      <td>0</td>\n",
              "      <td>0</td>\n",
              "      <td>0</td>\n",
              "      <td>0</td>\n",
              "      <td>0</td>\n",
              "      <td>0</td>\n",
              "      <td>0</td>\n",
              "      <td>0</td>\n",
              "      <td>0</td>\n",
              "      <td>48817</td>\n",
              "      <td>5</td>\n",
              "      <td>0</td>\n",
              "      <td>1</td>\n",
              "      <td>1</td>\n",
              "      <td>3.0</td>\n",
              "      <td>0.5</td>\n",
              "      <td>6</td>\n",
              "    </tr>\n",
              "  </tbody>\n",
              "</table>\n",
              "</div>"
            ],
            "text/plain": [
              "   bathrooms  bedrooms             created  ... total_rooms bath_per_bed  month\n",
              "0        1.5         3 2016-06-24 07:54:24  ...         4.5          0.5      6\n",
              "1        1.0         2 2016-06-12 12:19:27  ...         3.0          0.5      6\n",
              "\n",
              "[2 rows x 42 columns]"
            ]
          },
          "metadata": {
            "tags": []
          },
          "execution_count": 151
        }
      ]
    },
    {
      "cell_type": "markdown",
      "metadata": {
        "id": "9djurGR4Mu6V"
      },
      "source": [
        "## Train/Test Split"
      ]
    },
    {
      "cell_type": "code",
      "metadata": {
        "id": "O0woXxTIbxI3"
      },
      "source": [
        "df = df.dropna()\n",
        "df.isnull().sum()"
      ],
      "execution_count": null,
      "outputs": []
    },
    {
      "cell_type": "code",
      "metadata": {
        "id": "0_XhAQapOLIW",
        "outputId": "79271d03-93ba-459f-9ba2-16c70fa31d10",
        "colab": {
          "base_uri": "https://localhost:8080/",
          "height": 35
        }
      },
      "source": [
        "mask = df.month == 6\n",
        "train = df.loc[mask]\n",
        "test = df.loc[~mask]\n",
        "\n",
        "train.shape, test.shape"
      ],
      "execution_count": 155,
      "outputs": [
        {
          "output_type": "execute_result",
          "data": {
            "text/plain": [
              "((16402, 42), (30707, 42))"
            ]
          },
          "metadata": {
            "tags": []
          },
          "execution_count": 155
        }
      ]
    },
    {
      "cell_type": "markdown",
      "metadata": {
        "id": "rNZ4j0VdOGok"
      },
      "source": [
        "## Split feature and target matrices"
      ]
    },
    {
      "cell_type": "code",
      "metadata": {
        "id": "q0wb1z8NOLuQ",
        "outputId": "8d42392c-e7a6-47a2-8954-310216186ec9",
        "colab": {
          "base_uri": "https://localhost:8080/",
          "height": 54
        }
      },
      "source": [
        "target = 'price'\n",
        "y_train = train[target]\n",
        "X_train = train.drop(['price', 'created', 'description', 'display_address', 'street_address'], axis = 1)\n",
        "\n",
        "y_test = test[target]\n",
        "X_test = test.drop(['price', 'created', 'description', 'display_address', 'street_address'], axis = 1)\n",
        "\n",
        "\n",
        "print(X_train.shape, y_train.shape)\n",
        "print(X_test.shape, y_test.shape)"
      ],
      "execution_count": 156,
      "outputs": [
        {
          "output_type": "stream",
          "text": [
            "(16402, 37) (16402,)\n",
            "(30707, 37) (30707,)\n"
          ],
          "name": "stdout"
        }
      ]
    },
    {
      "cell_type": "markdown",
      "metadata": {
        "id": "3dlaCzLbSjdC"
      },
      "source": [
        "## Baseline"
      ]
    },
    {
      "cell_type": "code",
      "metadata": {
        "id": "mqosNCCrMuTw",
        "outputId": "1f843192-cd43-49c8-c32e-4eb1a9be3024",
        "colab": {
          "base_uri": "https://localhost:8080/",
          "height": 35
        }
      },
      "source": [
        "baseline = y_train.mean()\n",
        "print(f'baseline price is: ${baseline}')"
      ],
      "execution_count": 157,
      "outputs": [
        {
          "output_type": "stream",
          "text": [
            "baseline price is: $3588.801731496159\n"
          ],
          "name": "stdout"
        }
      ]
    },
    {
      "cell_type": "code",
      "metadata": {
        "id": "KSd-_ayNT1qV"
      },
      "source": [
        "from sklearn.metrics import mean_absolute_error, mean_squared_error,r2_score"
      ],
      "execution_count": 158,
      "outputs": []
    },
    {
      "cell_type": "code",
      "metadata": {
        "id": "9qlXz111TEm0",
        "outputId": "bdb7d6b7-3de8-4ec4-9b89-d3738544a992",
        "colab": {
          "base_uri": "https://localhost:8080/",
          "height": 72
        }
      },
      "source": [
        "# baseline metrics\n",
        "\n",
        "y_pred = [baseline] * len(y_train)\n",
        "baseline_MAE = mean_absolute_error(y_train, y_pred)\n",
        "baseline_R2 = r2_score(y_train, y_pred)\n",
        "baseline_MSE = mean_squared_error(y_train, y_pred)\n",
        "print(f'Baseline MAE: ${baseline_MAE}')\n",
        "print(f'Baseline R2: ${baseline_R2}')\n",
        "print(f'Baseline RMSE: ${baseline_MSE}')"
      ],
      "execution_count": 159,
      "outputs": [
        {
          "output_type": "stream",
          "text": [
            "Baseline MAE: $1204.6323797195153\n",
            "Baseline R2: $0.0\n",
            "Baseline RMSE: $3123768.66377459\n"
          ],
          "name": "stdout"
        }
      ]
    },
    {
      "cell_type": "markdown",
      "metadata": {
        "id": "U85adZJYYV7x"
      },
      "source": [
        "## Build a Model"
      ]
    },
    {
      "cell_type": "code",
      "metadata": {
        "id": "v2IPL6WWcbek",
        "outputId": "2c5c56b1-d83e-4290-ab40-b261899d5fc8",
        "colab": {
          "base_uri": "https://localhost:8080/",
          "height": 199
        }
      },
      "source": [
        "X_train.columns"
      ],
      "execution_count": 160,
      "outputs": [
        {
          "output_type": "execute_result",
          "data": {
            "text/plain": [
              "Index(['bathrooms', 'bedrooms', 'latitude', 'longitude', 'interest_level',\n",
              "       'elevator', 'cats_allowed', 'hardwood_floors', 'dogs_allowed',\n",
              "       'doorman', 'dishwasher', 'no_fee', 'laundry_in_building',\n",
              "       'fitness_center', 'pre-war', 'laundry_in_unit', 'roof_deck',\n",
              "       'outdoor_space', 'dining_room', 'high_speed_internet', 'balcony',\n",
              "       'swimming_pool', 'new_construction', 'terrace', 'exclusive', 'loft',\n",
              "       'garden_patio', 'wheelchair_access', 'common_outdoor_space',\n",
              "       'apt_desc_len', 'perks', 'dogs or cats', 'dogs_and_cats', 'pets',\n",
              "       'total_rooms', 'bath_per_bed', 'month'],\n",
              "      dtype='object')"
            ]
          },
          "metadata": {
            "tags": []
          },
          "execution_count": 160
        }
      ]
    },
    {
      "cell_type": "code",
      "metadata": {
        "id": "ZJI0EhqBYYav"
      },
      "source": [
        "from sklearn.linear_model import LinearRegression\n",
        "\n",
        "model_all = LinearRegression()\n",
        "\n",
        "model_all.fit(X_train.iloc[:, 0:-3], y_train)\n",
        "\n",
        "pred_all = model_all.predict(X_test.iloc[:, 0:-3])"
      ],
      "execution_count": 161,
      "outputs": []
    },
    {
      "cell_type": "code",
      "metadata": {
        "id": "MzP1j-AzhLCl",
        "outputId": "2c970033-6ccb-4d3e-992f-4eea5a008888",
        "colab": {
          "base_uri": "https://localhost:8080/",
          "height": 35
        }
      },
      "source": [
        "len(pred_all)"
      ],
      "execution_count": 142,
      "outputs": [
        {
          "output_type": "execute_result",
          "data": {
            "text/plain": [
              "30707"
            ]
          },
          "metadata": {
            "tags": []
          },
          "execution_count": 142
        }
      ]
    },
    {
      "cell_type": "code",
      "metadata": {
        "id": "edu68kRMheJe",
        "outputId": "040c21e6-2758-4100-d367-e608a9985bf2",
        "colab": {
          "base_uri": "https://localhost:8080/",
          "height": 35
        }
      },
      "source": [
        "len(y_test)"
      ],
      "execution_count": 143,
      "outputs": [
        {
          "output_type": "execute_result",
          "data": {
            "text/plain": [
              "30707"
            ]
          },
          "metadata": {
            "tags": []
          },
          "execution_count": 143
        }
      ]
    },
    {
      "cell_type": "code",
      "metadata": {
        "id": "bEHs33V4heH7"
      },
      "source": [
        ""
      ],
      "execution_count": null,
      "outputs": []
    },
    {
      "cell_type": "markdown",
      "metadata": {
        "id": "8EjblQntdKIP"
      },
      "source": [
        "## Metrics"
      ]
    },
    {
      "cell_type": "code",
      "metadata": {
        "id": "65NMPYJWdMFD",
        "outputId": "99749e6b-6a4a-4116-a58c-3a85dec9c922",
        "colab": {
          "base_uri": "https://localhost:8080/",
          "height": 72
        }
      },
      "source": [
        "# test metrics\n",
        "\n",
        "#y_test_pred = [pred_all] * len(y_test)\n",
        "test_MAE = mean_absolute_error(y_test, pred_all)\n",
        "test_R2 = r2_score(y_test, pred_all)\n",
        "test_MSE = mean_squared_error(y_test, pred_all)\n",
        "print(f'Test MAE: ${test_MAE}')\n",
        "print(f'Test R2: ${test_R2}')\n",
        "print(f'Test RMSE: ${test_MSE}')"
      ],
      "execution_count": 162,
      "outputs": [
        {
          "output_type": "stream",
          "text": [
            "Test MAE: $678.3709491276674\n",
            "Test R2: $0.6384645209125762\n",
            "Test RMSE: $1125446.3657726229\n"
          ],
          "name": "stdout"
        }
      ]
    },
    {
      "cell_type": "code",
      "metadata": {
        "id": "WAa0Ab30j4ri",
        "outputId": "efb4850d-56e7-4943-9df8-df4fc01704dd",
        "colab": {
          "base_uri": "https://localhost:8080/",
          "height": 35
        }
      },
      "source": [
        "train_pred = model_all.predict(X_train.iloc[:, 0:-3])\n",
        "train_R2 = r2_score(y_train, train_pred)\n",
        "train_R2"
      ],
      "execution_count": 165,
      "outputs": [
        {
          "output_type": "execute_result",
          "data": {
            "text/plain": [
              "0.6579577765091398"
            ]
          },
          "metadata": {
            "tags": []
          },
          "execution_count": 165
        }
      ]
    },
    {
      "cell_type": "code",
      "metadata": {
        "id": "13peLkKdkgGg",
        "outputId": "34e1948b-3ee0-4b07-e360-e19c2e7a59a8",
        "colab": {
          "base_uri": "https://localhost:8080/",
          "height": 35
        }
      },
      "source": [
        "train_MAE = mean_absolute_error(y_train, train_pred)\n",
        "train_MAE"
      ],
      "execution_count": 166,
      "outputs": [
        {
          "output_type": "execute_result",
          "data": {
            "text/plain": [
              "674.8188549795757"
            ]
          },
          "metadata": {
            "tags": []
          },
          "execution_count": 166
        }
      ]
    }
  ]
}